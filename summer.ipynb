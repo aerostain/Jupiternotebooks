{
 "cells": [
  {
   "cell_type": "markdown",
   "metadata": {},
   "source": [
    "# Godzilla rules!"
   ]
  },
  {
   "cell_type": "code",
   "execution_count": 3,
   "metadata": {
    "vscode": {
     "languageId": "r"
    }
   },
   "outputs": [],
   "source": [
    "library(ggplot2)\n",
    "library(tidyverse)\n",
    "library(ggdark)\n",
    "library(gridExtra)"
   ]
  },
  {
   "cell_type": "code",
   "execution_count": 2,
   "metadata": {
    "vscode": {
     "languageId": "r"
    }
   },
   "outputs": [
    {
     "name": "stdout",
     "output_type": "stream",
     "text": [
      "tibble [53,940 × 10] (S3: tbl_df/tbl/data.frame)\n",
      " $ carat  : num [1:53940] 0.23 0.21 0.23 0.29 0.31 0.24 0.24 0.26 0.22 0.23 ...\n",
      " $ cut    : Ord.factor w/ 5 levels \"Fair\"<\"Good\"<..: 5 4 2 4 2 3 3 3 1 3 ...\n",
      " $ color  : Ord.factor w/ 7 levels \"D\"<\"E\"<\"F\"<\"G\"<..: 2 2 2 6 7 7 6 5 2 5 ...\n",
      " $ clarity: Ord.factor w/ 8 levels \"I1\"<\"SI2\"<\"SI1\"<..: 2 3 5 4 2 6 7 3 4 5 ...\n",
      " $ depth  : num [1:53940] 61.5 59.8 56.9 62.4 63.3 62.8 62.3 61.9 65.1 59.4 ...\n",
      " $ table  : num [1:53940] 55 61 65 58 58 57 57 55 61 61 ...\n",
      " $ price  : int [1:53940] 326 326 327 334 335 336 336 337 337 338 ...\n",
      " $ x      : num [1:53940] 3.95 3.89 4.05 4.2 4.34 3.94 3.95 4.07 3.87 4 ...\n",
      " $ y      : num [1:53940] 3.98 3.84 4.07 4.23 4.35 3.96 3.98 4.11 3.78 4.05 ...\n",
      " $ z      : num [1:53940] 2.43 2.31 2.31 2.63 2.75 2.48 2.47 2.53 2.49 2.39 ...\n"
     ]
    },
    {
     "data": {
      "text/html": [
       "<table class=\"dataframe\">\n",
       "<caption>A tibble: 7 × 2</caption>\n",
       "<thead>\n",
       "\t<tr><th scope=col>color</th><th scope=col>MeanPe</th></tr>\n",
       "\t<tr><th scope=col>&lt;ord&gt;</th><th scope=col>&lt;dbl&gt;</th></tr>\n",
       "</thead>\n",
       "<tbody>\n",
       "\t<tr><td>D</td><td>3169.954</td></tr>\n",
       "\t<tr><td>E</td><td>3076.752</td></tr>\n",
       "\t<tr><td>F</td><td>3724.886</td></tr>\n",
       "\t<tr><td>G</td><td>3999.136</td></tr>\n",
       "\t<tr><td>H</td><td>4486.669</td></tr>\n",
       "\t<tr><td>I</td><td>5091.875</td></tr>\n",
       "\t<tr><td>J</td><td>5323.818</td></tr>\n",
       "</tbody>\n",
       "</table>\n"
      ],
      "text/latex": [
       "A tibble: 7 × 2\n",
       "\\begin{tabular}{ll}\n",
       " color & MeanPe\\\\\n",
       " <ord> & <dbl>\\\\\n",
       "\\hline\n",
       "\t D & 3169.954\\\\\n",
       "\t E & 3076.752\\\\\n",
       "\t F & 3724.886\\\\\n",
       "\t G & 3999.136\\\\\n",
       "\t H & 4486.669\\\\\n",
       "\t I & 5091.875\\\\\n",
       "\t J & 5323.818\\\\\n",
       "\\end{tabular}\n"
      ],
      "text/markdown": [
       "\n",
       "A tibble: 7 × 2\n",
       "\n",
       "| color &lt;ord&gt; | MeanPe &lt;dbl&gt; |\n",
       "|---|---|\n",
       "| D | 3169.954 |\n",
       "| E | 3076.752 |\n",
       "| F | 3724.886 |\n",
       "| G | 3999.136 |\n",
       "| H | 4486.669 |\n",
       "| I | 5091.875 |\n",
       "| J | 5323.818 |\n",
       "\n"
      ],
      "text/plain": [
       "  color MeanPe  \n",
       "1 D     3169.954\n",
       "2 E     3076.752\n",
       "3 F     3724.886\n",
       "4 G     3999.136\n",
       "5 H     4486.669\n",
       "6 I     5091.875\n",
       "7 J     5323.818"
      ]
     },
     "metadata": {},
     "output_type": "display_data"
    }
   ],
   "source": [
    "#Un pequeño ejemplo\n",
    "#Resumiendo casos\n",
    "diamonds%>%str\n",
    "diamonds%>%\n",
    "    group_by(color)%>%\n",
    "        summarise(MeanPe=mean(price))\n"
   ]
  }
 ],
 "metadata": {
  "kernelspec": {
   "display_name": "R",
   "language": "R",
   "name": "ir"
  },
  "language_info": {
   "codemirror_mode": "r",
   "file_extension": ".r",
   "mimetype": "text/x-r-source",
   "name": "R",
   "pygments_lexer": "r",
   "version": "4.3.1"
  }
 },
 "nbformat": 4,
 "nbformat_minor": 2
}
